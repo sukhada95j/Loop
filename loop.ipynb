{
  "nbformat": 4,
  "nbformat_minor": 0,
  "metadata": {
    "colab": {
      "provenance": []
    },
    "kernelspec": {
      "name": "python3",
      "display_name": "Python 3"
    },
    "language_info": {
      "name": "python"
    }
  },
  "cells": [
    {
      "cell_type": "code",
      "execution_count": 2,
      "metadata": {
        "colab": {
          "base_uri": "https://localhost:8080/"
        },
        "id": "q4xNxG-8_u5r",
        "outputId": "7312778e-f239-454f-afc9-a7dfc3d67005"
      },
      "outputs": [
        {
          "output_type": "execute_result",
          "data": {
            "text/plain": [
              "[1, 2, 3, 4, 5, 6, 7]"
            ]
          },
          "metadata": {},
          "execution_count": 2
        }
      ],
      "source": [
        "def create_array(n):\n",
        "    res=[]\n",
        "    i=1\n",
        "    while i<=n: \n",
        "        res=res+[i]\n",
        "        i=i+1\n",
        "    return res\n",
        "create_array(7)"
      ]
    },
    {
      "cell_type": "code",
      "source": [
        " create_array(10)"
      ],
      "metadata": {
        "colab": {
          "base_uri": "https://localhost:8080/"
        },
        "id": "EdZTJ5FQAi0t",
        "outputId": "2349ce52-e532-48ed-d44b-30d1507eb9e6"
      },
      "execution_count": 3,
      "outputs": [
        {
          "output_type": "execute_result",
          "data": {
            "text/plain": [
              "[1, 2, 3, 4, 5, 6, 7, 8, 9, 10]"
            ]
          },
          "metadata": {},
          "execution_count": 3
        }
      ]
    }
  ]
}